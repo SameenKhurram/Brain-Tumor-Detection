{
  "nbformat": 4,
  "nbformat_minor": 0,
  "metadata": {
    "colab": {
      "provenance": []
    },
    "kernelspec": {
      "name": "python3",
      "display_name": "Python 3"
    },
    "language_info": {
      "name": "python"
    }
  },
  "cells": [
    {
      "cell_type": "code",
      "execution_count": null,
      "metadata": {
        "colab": {
          "base_uri": "https://localhost:8080/"
        },
        "id": "W5oYPslObLkq",
        "outputId": "2cb3efb0-3598-4fdc-9222-05cee0008477"
      },
      "outputs": [
        {
          "output_type": "stream",
          "name": "stdout",
          "text": [
            "Collecting ultralytics\n",
            "  Downloading ultralytics-8.2.87-py3-none-any.whl.metadata (41 kB)\n",
            "\u001b[?25l     \u001b[90m━━━━━━━━━━━━━━━━━━━━━━━━━━━━━━━━━━━━━━━━\u001b[0m \u001b[32m0.0/41.8 kB\u001b[0m \u001b[31m?\u001b[0m eta \u001b[36m-:--:--\u001b[0m\r\u001b[2K     \u001b[90m━━━━━━━━━━━━━━━━━━━━━━━━━━━━━━━━━━━━━━━━\u001b[0m \u001b[32m41.8/41.8 kB\u001b[0m \u001b[31m1.7 MB/s\u001b[0m eta \u001b[36m0:00:00\u001b[0m\n",
            "\u001b[?25hRequirement already satisfied: numpy<2.0.0,>=1.23.0 in /usr/local/lib/python3.10/dist-packages (from ultralytics) (1.26.4)\n",
            "Requirement already satisfied: matplotlib>=3.3.0 in /usr/local/lib/python3.10/dist-packages (from ultralytics) (3.7.1)\n",
            "Requirement already satisfied: opencv-python>=4.6.0 in /usr/local/lib/python3.10/dist-packages (from ultralytics) (4.10.0.84)\n",
            "Requirement already satisfied: pillow>=7.1.2 in /usr/local/lib/python3.10/dist-packages (from ultralytics) (9.4.0)\n",
            "Requirement already satisfied: pyyaml>=5.3.1 in /usr/local/lib/python3.10/dist-packages (from ultralytics) (6.0.2)\n",
            "Requirement already satisfied: requests>=2.23.0 in /usr/local/lib/python3.10/dist-packages (from ultralytics) (2.32.3)\n",
            "Requirement already satisfied: scipy>=1.4.1 in /usr/local/lib/python3.10/dist-packages (from ultralytics) (1.13.1)\n",
            "Requirement already satisfied: torch>=1.8.0 in /usr/local/lib/python3.10/dist-packages (from ultralytics) (2.4.0+cu121)\n",
            "Requirement already satisfied: torchvision>=0.9.0 in /usr/local/lib/python3.10/dist-packages (from ultralytics) (0.19.0+cu121)\n",
            "Requirement already satisfied: tqdm>=4.64.0 in /usr/local/lib/python3.10/dist-packages (from ultralytics) (4.66.5)\n",
            "Requirement already satisfied: psutil in /usr/local/lib/python3.10/dist-packages (from ultralytics) (5.9.5)\n",
            "Requirement already satisfied: py-cpuinfo in /usr/local/lib/python3.10/dist-packages (from ultralytics) (9.0.0)\n",
            "Requirement already satisfied: pandas>=1.1.4 in /usr/local/lib/python3.10/dist-packages (from ultralytics) (2.1.4)\n",
            "Requirement already satisfied: seaborn>=0.11.0 in /usr/local/lib/python3.10/dist-packages (from ultralytics) (0.13.1)\n",
            "Collecting ultralytics-thop>=2.0.0 (from ultralytics)\n",
            "  Downloading ultralytics_thop-2.0.6-py3-none-any.whl.metadata (9.1 kB)\n",
            "Requirement already satisfied: contourpy>=1.0.1 in /usr/local/lib/python3.10/dist-packages (from matplotlib>=3.3.0->ultralytics) (1.3.0)\n",
            "Requirement already satisfied: cycler>=0.10 in /usr/local/lib/python3.10/dist-packages (from matplotlib>=3.3.0->ultralytics) (0.12.1)\n",
            "Requirement already satisfied: fonttools>=4.22.0 in /usr/local/lib/python3.10/dist-packages (from matplotlib>=3.3.0->ultralytics) (4.53.1)\n",
            "Requirement already satisfied: kiwisolver>=1.0.1 in /usr/local/lib/python3.10/dist-packages (from matplotlib>=3.3.0->ultralytics) (1.4.5)\n",
            "Requirement already satisfied: packaging>=20.0 in /usr/local/lib/python3.10/dist-packages (from matplotlib>=3.3.0->ultralytics) (24.1)\n",
            "Requirement already satisfied: pyparsing>=2.3.1 in /usr/local/lib/python3.10/dist-packages (from matplotlib>=3.3.0->ultralytics) (3.1.4)\n",
            "Requirement already satisfied: python-dateutil>=2.7 in /usr/local/lib/python3.10/dist-packages (from matplotlib>=3.3.0->ultralytics) (2.8.2)\n",
            "Requirement already satisfied: pytz>=2020.1 in /usr/local/lib/python3.10/dist-packages (from pandas>=1.1.4->ultralytics) (2024.1)\n",
            "Requirement already satisfied: tzdata>=2022.1 in /usr/local/lib/python3.10/dist-packages (from pandas>=1.1.4->ultralytics) (2024.1)\n",
            "Requirement already satisfied: charset-normalizer<4,>=2 in /usr/local/lib/python3.10/dist-packages (from requests>=2.23.0->ultralytics) (3.3.2)\n",
            "Requirement already satisfied: idna<4,>=2.5 in /usr/local/lib/python3.10/dist-packages (from requests>=2.23.0->ultralytics) (3.8)\n",
            "Requirement already satisfied: urllib3<3,>=1.21.1 in /usr/local/lib/python3.10/dist-packages (from requests>=2.23.0->ultralytics) (2.0.7)\n",
            "Requirement already satisfied: certifi>=2017.4.17 in /usr/local/lib/python3.10/dist-packages (from requests>=2.23.0->ultralytics) (2024.7.4)\n",
            "Requirement already satisfied: filelock in /usr/local/lib/python3.10/dist-packages (from torch>=1.8.0->ultralytics) (3.15.4)\n",
            "Requirement already satisfied: typing-extensions>=4.8.0 in /usr/local/lib/python3.10/dist-packages (from torch>=1.8.0->ultralytics) (4.12.2)\n",
            "Requirement already satisfied: sympy in /usr/local/lib/python3.10/dist-packages (from torch>=1.8.0->ultralytics) (1.13.2)\n",
            "Requirement already satisfied: networkx in /usr/local/lib/python3.10/dist-packages (from torch>=1.8.0->ultralytics) (3.3)\n",
            "Requirement already satisfied: jinja2 in /usr/local/lib/python3.10/dist-packages (from torch>=1.8.0->ultralytics) (3.1.4)\n",
            "Requirement already satisfied: fsspec in /usr/local/lib/python3.10/dist-packages (from torch>=1.8.0->ultralytics) (2024.6.1)\n",
            "Requirement already satisfied: six>=1.5 in /usr/local/lib/python3.10/dist-packages (from python-dateutil>=2.7->matplotlib>=3.3.0->ultralytics) (1.16.0)\n",
            "Requirement already satisfied: MarkupSafe>=2.0 in /usr/local/lib/python3.10/dist-packages (from jinja2->torch>=1.8.0->ultralytics) (2.1.5)\n",
            "Requirement already satisfied: mpmath<1.4,>=1.1.0 in /usr/local/lib/python3.10/dist-packages (from sympy->torch>=1.8.0->ultralytics) (1.3.0)\n",
            "Downloading ultralytics-8.2.87-py3-none-any.whl (872 kB)\n",
            "\u001b[2K   \u001b[90m━━━━━━━━━━━━━━━━━━━━━━━━━━━━━━━━━━━━━━━━\u001b[0m \u001b[32m872.1/872.1 kB\u001b[0m \u001b[31m16.2 MB/s\u001b[0m eta \u001b[36m0:00:00\u001b[0m\n",
            "\u001b[?25hDownloading ultralytics_thop-2.0.6-py3-none-any.whl (26 kB)\n",
            "Installing collected packages: ultralytics-thop, ultralytics\n",
            "Successfully installed ultralytics-8.2.87 ultralytics-thop-2.0.6\n"
          ]
        }
      ],
      "source": [
        "!pip install ultralytics"
      ]
    },
    {
      "cell_type": "code",
      "source": [
        "import os\n",
        "home = os.getcwd()\n",
        "print(home)"
      ],
      "metadata": {
        "colab": {
          "base_uri": "https://localhost:8080/"
        },
        "id": "EFcPvn5YbPRz",
        "outputId": "f58c0970-9479-4d35-dfb8-4681c1af58c0"
      },
      "execution_count": null,
      "outputs": [
        {
          "output_type": "stream",
          "name": "stdout",
          "text": [
            "/content\n"
          ]
        }
      ]
    },
    {
      "cell_type": "code",
      "source": [
        "import ultralytics\n",
        "ultralytics.checks()"
      ],
      "metadata": {
        "colab": {
          "base_uri": "https://localhost:8080/"
        },
        "id": "_CCdfuQfbP5X",
        "outputId": "1a645126-f761-44fe-f187-c5e5a2c91dd0"
      },
      "execution_count": null,
      "outputs": [
        {
          "output_type": "stream",
          "name": "stdout",
          "text": [
            "Ultralytics YOLOv8.2.86 🚀 Python-3.10.12 torch-2.4.0+cu121 CPU (Intel Xeon 2.20GHz)\n",
            "Setup complete ✅ (2 CPUs, 12.7 GB RAM, 32.8/107.7 GB disk)\n"
          ]
        }
      ]
    },
    {
      "cell_type": "code",
      "source": [
        "pip install roboflow"
      ],
      "metadata": {
        "colab": {
          "base_uri": "https://localhost:8080/"
        },
        "id": "NcxLoI1vbl39",
        "outputId": "eb892695-1b9c-4cdf-8a03-7506aec60c60"
      },
      "execution_count": null,
      "outputs": [
        {
          "output_type": "stream",
          "name": "stdout",
          "text": [
            "Collecting roboflow\n",
            "  Downloading roboflow-1.1.44-py3-none-any.whl.metadata (9.7 kB)\n",
            "Requirement already satisfied: certifi in /usr/local/lib/python3.10/dist-packages (from roboflow) (2024.7.4)\n",
            "Collecting idna==3.7 (from roboflow)\n",
            "  Downloading idna-3.7-py3-none-any.whl.metadata (9.9 kB)\n",
            "Requirement already satisfied: cycler in /usr/local/lib/python3.10/dist-packages (from roboflow) (0.12.1)\n",
            "Requirement already satisfied: kiwisolver>=1.3.1 in /usr/local/lib/python3.10/dist-packages (from roboflow) (1.4.5)\n",
            "Requirement already satisfied: matplotlib in /usr/local/lib/python3.10/dist-packages (from roboflow) (3.7.1)\n",
            "Requirement already satisfied: numpy>=1.18.5 in /usr/local/lib/python3.10/dist-packages (from roboflow) (1.26.4)\n",
            "Requirement already satisfied: opencv-python-headless==4.10.0.84 in /usr/local/lib/python3.10/dist-packages (from roboflow) (4.10.0.84)\n",
            "Requirement already satisfied: Pillow>=7.1.2 in /usr/local/lib/python3.10/dist-packages (from roboflow) (9.4.0)\n",
            "Requirement already satisfied: python-dateutil in /usr/local/lib/python3.10/dist-packages (from roboflow) (2.8.2)\n",
            "Collecting python-dotenv (from roboflow)\n",
            "  Downloading python_dotenv-1.0.1-py3-none-any.whl.metadata (23 kB)\n",
            "Requirement already satisfied: requests in /usr/local/lib/python3.10/dist-packages (from roboflow) (2.32.3)\n",
            "Requirement already satisfied: six in /usr/local/lib/python3.10/dist-packages (from roboflow) (1.16.0)\n",
            "Requirement already satisfied: urllib3>=1.26.6 in /usr/local/lib/python3.10/dist-packages (from roboflow) (2.0.7)\n",
            "Requirement already satisfied: tqdm>=4.41.0 in /usr/local/lib/python3.10/dist-packages (from roboflow) (4.66.5)\n",
            "Requirement already satisfied: PyYAML>=5.3.1 in /usr/local/lib/python3.10/dist-packages (from roboflow) (6.0.2)\n",
            "Collecting requests-toolbelt (from roboflow)\n",
            "  Downloading requests_toolbelt-1.0.0-py2.py3-none-any.whl.metadata (14 kB)\n",
            "Collecting filetype (from roboflow)\n",
            "  Downloading filetype-1.2.0-py2.py3-none-any.whl.metadata (6.5 kB)\n",
            "Requirement already satisfied: contourpy>=1.0.1 in /usr/local/lib/python3.10/dist-packages (from matplotlib->roboflow) (1.3.0)\n",
            "Requirement already satisfied: fonttools>=4.22.0 in /usr/local/lib/python3.10/dist-packages (from matplotlib->roboflow) (4.53.1)\n",
            "Requirement already satisfied: packaging>=20.0 in /usr/local/lib/python3.10/dist-packages (from matplotlib->roboflow) (24.1)\n",
            "Requirement already satisfied: pyparsing>=2.3.1 in /usr/local/lib/python3.10/dist-packages (from matplotlib->roboflow) (3.1.4)\n",
            "Requirement already satisfied: charset-normalizer<4,>=2 in /usr/local/lib/python3.10/dist-packages (from requests->roboflow) (3.3.2)\n",
            "Downloading roboflow-1.1.44-py3-none-any.whl (79 kB)\n",
            "\u001b[2K   \u001b[90m━━━━━━━━━━━━━━━━━━━━━━━━━━━━━━━━━━━━━━━━\u001b[0m \u001b[32m79.9/79.9 kB\u001b[0m \u001b[31m5.5 MB/s\u001b[0m eta \u001b[36m0:00:00\u001b[0m\n",
            "\u001b[?25hDownloading idna-3.7-py3-none-any.whl (66 kB)\n",
            "\u001b[2K   \u001b[90m━━━━━━━━━━━━━━━━━━━━━━━━━━━━━━━━━━━━━━━━\u001b[0m \u001b[32m66.8/66.8 kB\u001b[0m \u001b[31m4.2 MB/s\u001b[0m eta \u001b[36m0:00:00\u001b[0m\n",
            "\u001b[?25hDownloading filetype-1.2.0-py2.py3-none-any.whl (19 kB)\n",
            "Downloading python_dotenv-1.0.1-py3-none-any.whl (19 kB)\n",
            "Downloading requests_toolbelt-1.0.0-py2.py3-none-any.whl (54 kB)\n",
            "\u001b[2K   \u001b[90m━━━━━━━━━━━━━━━━━━━━━━━━━━━━━━━━━━━━━━━━\u001b[0m \u001b[32m54.5/54.5 kB\u001b[0m \u001b[31m3.6 MB/s\u001b[0m eta \u001b[36m0:00:00\u001b[0m\n",
            "\u001b[?25hInstalling collected packages: filetype, python-dotenv, idna, requests-toolbelt, roboflow\n",
            "  Attempting uninstall: idna\n",
            "    Found existing installation: idna 3.8\n",
            "    Uninstalling idna-3.8:\n",
            "      Successfully uninstalled idna-3.8\n",
            "Successfully installed filetype-1.2.0 idna-3.7 python-dotenv-1.0.1 requests-toolbelt-1.0.0 roboflow-1.1.44\n"
          ]
        }
      ]
    },
    {
      "cell_type": "code",
      "source": [
        "!pip install roboflow\n",
        "\n",
        "from roboflow import Roboflow\n",
        "rf = Roboflow(api_key=\"qsXFsiySpji6NMnigudH\")\n",
        "project = rf.workspace(\"sameen-khurram-xkdd0\").project(\"brain-tumor-detection-ag3de\")\n",
        "version = project.version(2)\n",
        "dataset = version.download(\"folder\")\n"
      ],
      "metadata": {
        "colab": {
          "base_uri": "https://localhost:8080/"
        },
        "id": "LngUeeO9dcZm",
        "outputId": "f96cfa5c-9fc9-4bc4-8bb9-116eec8b402e"
      },
      "execution_count": null,
      "outputs": [
        {
          "output_type": "stream",
          "name": "stdout",
          "text": [
            "Requirement already satisfied: roboflow in /usr/local/lib/python3.10/dist-packages (1.1.44)\n",
            "Requirement already satisfied: certifi in /usr/local/lib/python3.10/dist-packages (from roboflow) (2024.7.4)\n",
            "Requirement already satisfied: idna==3.7 in /usr/local/lib/python3.10/dist-packages (from roboflow) (3.7)\n",
            "Requirement already satisfied: cycler in /usr/local/lib/python3.10/dist-packages (from roboflow) (0.12.1)\n",
            "Requirement already satisfied: kiwisolver>=1.3.1 in /usr/local/lib/python3.10/dist-packages (from roboflow) (1.4.5)\n",
            "Requirement already satisfied: matplotlib in /usr/local/lib/python3.10/dist-packages (from roboflow) (3.7.1)\n",
            "Requirement already satisfied: numpy>=1.18.5 in /usr/local/lib/python3.10/dist-packages (from roboflow) (1.26.4)\n",
            "Requirement already satisfied: opencv-python-headless==4.10.0.84 in /usr/local/lib/python3.10/dist-packages (from roboflow) (4.10.0.84)\n",
            "Requirement already satisfied: Pillow>=7.1.2 in /usr/local/lib/python3.10/dist-packages (from roboflow) (9.4.0)\n",
            "Requirement already satisfied: python-dateutil in /usr/local/lib/python3.10/dist-packages (from roboflow) (2.8.2)\n",
            "Requirement already satisfied: python-dotenv in /usr/local/lib/python3.10/dist-packages (from roboflow) (1.0.1)\n",
            "Requirement already satisfied: requests in /usr/local/lib/python3.10/dist-packages (from roboflow) (2.32.3)\n",
            "Requirement already satisfied: six in /usr/local/lib/python3.10/dist-packages (from roboflow) (1.16.0)\n",
            "Requirement already satisfied: urllib3>=1.26.6 in /usr/local/lib/python3.10/dist-packages (from roboflow) (2.0.7)\n",
            "Requirement already satisfied: tqdm>=4.41.0 in /usr/local/lib/python3.10/dist-packages (from roboflow) (4.66.5)\n",
            "Requirement already satisfied: PyYAML>=5.3.1 in /usr/local/lib/python3.10/dist-packages (from roboflow) (6.0.2)\n",
            "Requirement already satisfied: requests-toolbelt in /usr/local/lib/python3.10/dist-packages (from roboflow) (1.0.0)\n",
            "Requirement already satisfied: filetype in /usr/local/lib/python3.10/dist-packages (from roboflow) (1.2.0)\n",
            "Requirement already satisfied: contourpy>=1.0.1 in /usr/local/lib/python3.10/dist-packages (from matplotlib->roboflow) (1.2.1)\n",
            "Requirement already satisfied: fonttools>=4.22.0 in /usr/local/lib/python3.10/dist-packages (from matplotlib->roboflow) (4.53.1)\n",
            "Requirement already satisfied: packaging>=20.0 in /usr/local/lib/python3.10/dist-packages (from matplotlib->roboflow) (24.1)\n",
            "Requirement already satisfied: pyparsing>=2.3.1 in /usr/local/lib/python3.10/dist-packages (from matplotlib->roboflow) (3.1.4)\n",
            "Requirement already satisfied: charset-normalizer<4,>=2 in /usr/local/lib/python3.10/dist-packages (from requests->roboflow) (3.3.2)\n",
            "loading Roboflow workspace...\n",
            "loading Roboflow project...\n"
          ]
        },
        {
          "output_type": "stream",
          "name": "stderr",
          "text": [
            "Downloading Dataset Version Zip in Brain-Tumor-Detection-2 to folder:: 100%|██████████| 27673/27673 [00:00<00:00, 29298.64it/s]"
          ]
        },
        {
          "output_type": "stream",
          "name": "stdout",
          "text": [
            "\n"
          ]
        },
        {
          "output_type": "stream",
          "name": "stderr",
          "text": [
            "\n",
            "Extracting Dataset Version Zip to Brain-Tumor-Detection-2 in folder:: 100%|██████████| 4025/4025 [00:00<00:00, 4051.02it/s]\n"
          ]
        }
      ]
    },
    {
      "cell_type": "code",
      "source": [
        "%cd {dataset.location}"
      ],
      "metadata": {
        "colab": {
          "base_uri": "https://localhost:8080/"
        },
        "id": "dz31ombnbXQ9",
        "outputId": "9449016c-b15e-4e97-e551-6008bf9df829"
      },
      "execution_count": null,
      "outputs": [
        {
          "output_type": "stream",
          "name": "stdout",
          "text": [
            "/content/Brain-Tumor-Detection-2\n"
          ]
        }
      ]
    },
    {
      "cell_type": "code",
      "source": [
        "!yolo task=classify mode=train model=yolov8s-cls.pt data=/content/Brain-Tumor-Detection-2 epochs=50 imgsz=224\n"
      ],
      "metadata": {
        "colab": {
          "base_uri": "https://localhost:8080/"
        },
        "id": "8qBatQerbbBs",
        "outputId": "b7ff587f-f9cb-4bf0-dba4-9c763e59103d"
      },
      "execution_count": null,
      "outputs": [
        {
          "output_type": "stream",
          "name": "stdout",
          "text": [
            "New https://pypi.org/project/ultralytics/8.2.87 available 😃 Update with 'pip install -U ultralytics'\n",
            "Ultralytics YOLOv8.2.86 🚀 Python-3.10.12 torch-2.4.0+cu121 CPU (Intel Xeon 2.20GHz)\n",
            "\u001b[34m\u001b[1mengine/trainer: \u001b[0mtask=classify, mode=train, model=yolov8s-cls.pt, data=/content/Brain-Tumor-Detection-2, epochs=50, time=None, patience=100, batch=16, imgsz=224, save=True, save_period=-1, cache=False, device=None, workers=8, project=None, name=train2, exist_ok=False, pretrained=True, optimizer=auto, verbose=True, seed=0, deterministic=True, single_cls=False, rect=False, cos_lr=False, close_mosaic=10, resume=False, amp=True, fraction=1.0, profile=False, freeze=None, multi_scale=False, overlap_mask=True, mask_ratio=4, dropout=0.0, val=True, split=val, save_json=False, save_hybrid=False, conf=None, iou=0.7, max_det=300, half=False, dnn=False, plots=True, source=None, vid_stride=1, stream_buffer=False, visualize=False, augment=False, agnostic_nms=False, classes=None, retina_masks=False, embed=None, show=False, save_frames=False, save_txt=False, save_conf=False, save_crop=False, show_labels=True, show_conf=True, show_boxes=True, line_width=None, format=torchscript, keras=False, optimize=False, int8=False, dynamic=False, simplify=False, opset=None, workspace=4, nms=False, lr0=0.01, lrf=0.01, momentum=0.937, weight_decay=0.0005, warmup_epochs=3.0, warmup_momentum=0.8, warmup_bias_lr=0.1, box=7.5, cls=0.5, dfl=1.5, pose=12.0, kobj=1.0, label_smoothing=0.0, nbs=64, hsv_h=0.015, hsv_s=0.7, hsv_v=0.4, degrees=0.0, translate=0.1, scale=0.5, shear=0.0, perspective=0.0, flipud=0.0, fliplr=0.5, bgr=0.0, mosaic=1.0, mixup=0.0, copy_paste=0.0, auto_augment=randaugment, erasing=0.4, crop_fraction=1.0, cfg=None, tracker=botsort.yaml, save_dir=runs/classify/train2\n",
            "\u001b[34m\u001b[1mtrain:\u001b[0m /content/Brain-Tumor-Detection-2/train... found 2831 images in 7 classes ✅ \n",
            "\u001b[34m\u001b[1mval:\u001b[0m None...\n",
            "\u001b[34m\u001b[1mtest:\u001b[0m /content/Brain-Tumor-Detection-2/test... found 402 images in 7 classes ✅ \n",
            "Overriding model.yaml nc=1000 with nc=7\n",
            "\n",
            "                   from  n    params  module                                       arguments                     \n",
            "  0                  -1  1       928  ultralytics.nn.modules.conv.Conv             [3, 32, 3, 2]                 \n",
            "  1                  -1  1     18560  ultralytics.nn.modules.conv.Conv             [32, 64, 3, 2]                \n",
            "  2                  -1  1     29056  ultralytics.nn.modules.block.C2f             [64, 64, 1, True]             \n",
            "  3                  -1  1     73984  ultralytics.nn.modules.conv.Conv             [64, 128, 3, 2]               \n",
            "  4                  -1  2    197632  ultralytics.nn.modules.block.C2f             [128, 128, 2, True]           \n",
            "  5                  -1  1    295424  ultralytics.nn.modules.conv.Conv             [128, 256, 3, 2]              \n",
            "  6                  -1  2    788480  ultralytics.nn.modules.block.C2f             [256, 256, 2, True]           \n",
            "  7                  -1  1   1180672  ultralytics.nn.modules.conv.Conv             [256, 512, 3, 2]              \n",
            "  8                  -1  1   1838080  ultralytics.nn.modules.block.C2f             [512, 512, 1, True]           \n",
            "  9                  -1  1    666887  ultralytics.nn.modules.head.Classify         [512, 7]                      \n",
            "YOLOv8s-cls summary: 99 layers, 5,089,703 parameters, 5,089,703 gradients, 12.6 GFLOPs\n",
            "Transferred 156/158 items from pretrained weights\n",
            "\u001b[34m\u001b[1mTensorBoard: \u001b[0mStart with 'tensorboard --logdir runs/classify/train2', view at http://localhost:6006/\n",
            "/usr/local/lib/python3.10/dist-packages/ultralytics/engine/trainer.py:268: FutureWarning: `torch.cuda.amp.GradScaler(args...)` is deprecated. Please use `torch.amp.GradScaler('cuda', args...)` instead.\n",
            "  self.scaler = torch.cuda.amp.GradScaler(enabled=self.amp)\n",
            "\u001b[34m\u001b[1mtrain: \u001b[0mScanning /content/Brain-Tumor-Detection-2/train... 2831 images, 0 corrupt: 100% 2831/2831 [00:00<00:00, 3703.11it/s]\n",
            "\u001b[34m\u001b[1mtrain: \u001b[0mNew cache created: /content/Brain-Tumor-Detection-2/train.cache\n",
            "\u001b[34m\u001b[1mval: \u001b[0mScanning /content/Brain-Tumor-Detection-2/test... 402 images, 0 corrupt: 100% 402/402 [00:00<00:00, 3839.62it/s]\n",
            "\u001b[34m\u001b[1mval: \u001b[0mNew cache created: /content/Brain-Tumor-Detection-2/test.cache\n",
            "\u001b[34m\u001b[1moptimizer:\u001b[0m 'optimizer=auto' found, ignoring 'lr0=0.01' and 'momentum=0.937' and determining best 'optimizer', 'lr0' and 'momentum' automatically... \n",
            "\u001b[34m\u001b[1moptimizer:\u001b[0m AdamW(lr=0.000714, momentum=0.9) with parameter groups 26 weight(decay=0.0), 27 weight(decay=0.0005), 27 bias(decay=0.0)\n",
            "\u001b[34m\u001b[1mTensorBoard: \u001b[0mmodel graph visualization added ✅\n",
            "Image sizes 224 train, 224 val\n",
            "Using 0 dataloader workers\n",
            "Logging results to \u001b[1mruns/classify/train2\u001b[0m\n",
            "Starting training for 50 epochs...\n",
            "\n",
            "      Epoch    GPU_mem       loss  Instances       Size\n",
            "       1/50         0G      2.026         16        224:   1% 1/177 [00:03<09:36,  3.28s/it]Downloading https://ultralytics.com/assets/Arial.ttf to '/root/.config/Ultralytics/Arial.ttf'...\n",
            "\n",
            "100% 755k/755k [00:00<00:00, 48.3MB/s]\n",
            "       1/50         0G       1.27         15        224: 100% 177/177 [06:45<00:00,  2.29s/it]\n",
            "               classes   top1_acc   top5_acc: 100% 13/13 [00:21<00:00,  1.66s/it]\n",
            "                   all      0.756      0.988\n",
            "\n",
            "      Epoch    GPU_mem       loss  Instances       Size\n",
            "       2/50         0G     0.5587         15        224: 100% 177/177 [06:37<00:00,  2.24s/it]\n",
            "               classes   top1_acc   top5_acc: 100% 13/13 [00:16<00:00,  1.25s/it]\n",
            "                   all      0.858      0.995\n",
            "\n",
            "      Epoch    GPU_mem       loss  Instances       Size\n",
            "       3/50         0G     0.4241         15        224: 100% 177/177 [06:37<00:00,  2.24s/it]\n",
            "               classes   top1_acc   top5_acc: 100% 13/13 [00:16<00:00,  1.26s/it]\n",
            "                   all      0.843      0.998\n",
            "\n",
            "      Epoch    GPU_mem       loss  Instances       Size\n",
            "       4/50         0G     0.3384         15        224: 100% 177/177 [06:48<00:00,  2.31s/it]\n",
            "               classes   top1_acc   top5_acc: 100% 13/13 [00:23<00:00,  1.78s/it]\n",
            "                   all      0.881      0.998\n",
            "\n",
            "      Epoch    GPU_mem       loss  Instances       Size\n",
            "       5/50         0G     0.3027         15        224: 100% 177/177 [06:49<00:00,  2.31s/it]\n",
            "               classes   top1_acc   top5_acc: 100% 13/13 [00:17<00:00,  1.36s/it]\n",
            "                   all      0.856      0.998\n",
            "\n",
            "      Epoch    GPU_mem       loss  Instances       Size\n",
            "       6/50         0G     0.2815         15        224: 100% 177/177 [06:38<00:00,  2.25s/it]\n",
            "               classes   top1_acc   top5_acc: 100% 13/13 [00:20<00:00,  1.58s/it]\n",
            "                   all      0.908      0.998\n",
            "\n",
            "      Epoch    GPU_mem       loss  Instances       Size\n",
            "       7/50         0G     0.2526         15        224: 100% 177/177 [06:31<00:00,  2.21s/it]\n",
            "               classes   top1_acc   top5_acc: 100% 13/13 [00:19<00:00,  1.49s/it]\n",
            "                   all      0.896      0.998\n",
            "\n",
            "      Epoch    GPU_mem       loss  Instances       Size\n",
            "       8/50         0G     0.2358         15        224: 100% 177/177 [06:35<00:00,  2.24s/it]\n",
            "               classes   top1_acc   top5_acc: 100% 13/13 [00:17<00:00,  1.36s/it]\n",
            "                   all        0.9      0.998\n",
            "\n",
            "      Epoch    GPU_mem       loss  Instances       Size\n",
            "       9/50         0G     0.2403         15        224: 100% 177/177 [06:31<00:00,  2.21s/it]\n",
            "               classes   top1_acc   top5_acc: 100% 13/13 [00:21<00:00,  1.66s/it]\n",
            "                   all      0.903          1\n",
            "\n",
            "      Epoch    GPU_mem       loss  Instances       Size\n",
            "      10/50         0G     0.1773         15        224: 100% 177/177 [06:47<00:00,  2.30s/it]\n",
            "               classes   top1_acc   top5_acc: 100% 13/13 [00:20<00:00,  1.55s/it]\n",
            "                   all      0.923      0.998\n",
            "\n",
            "      Epoch    GPU_mem       loss  Instances       Size\n",
            "      11/50         0G     0.1739         15        224: 100% 177/177 [06:40<00:00,  2.26s/it]\n",
            "               classes   top1_acc   top5_acc: 100% 13/13 [00:19<00:00,  1.50s/it]\n",
            "                   all       0.91      0.998\n",
            "\n",
            "      Epoch    GPU_mem       loss  Instances       Size\n",
            "      12/50         0G     0.1569         15        224: 100% 177/177 [06:40<00:00,  2.26s/it]\n",
            "               classes   top1_acc   top5_acc: 100% 13/13 [00:20<00:00,  1.56s/it]\n",
            "                   all       0.93          1\n",
            "\n",
            "      Epoch    GPU_mem       loss  Instances       Size\n",
            "      13/50         0G     0.1636         15        224: 100% 177/177 [06:39<00:00,  2.26s/it]\n",
            "               classes   top1_acc   top5_acc: 100% 13/13 [00:16<00:00,  1.31s/it]\n",
            "                   all       0.92      0.998\n",
            "\n",
            "      Epoch    GPU_mem       loss  Instances       Size\n",
            "      14/50         0G     0.1666         15        224: 100% 177/177 [06:45<00:00,  2.29s/it]\n",
            "               classes   top1_acc   top5_acc: 100% 13/13 [00:19<00:00,  1.53s/it]\n",
            "                   all       0.94      0.998\n",
            "\n",
            "      Epoch    GPU_mem       loss  Instances       Size\n",
            "      15/50         0G     0.1296         15        224: 100% 177/177 [06:43<00:00,  2.28s/it]\n",
            "               classes   top1_acc   top5_acc: 100% 13/13 [00:16<00:00,  1.29s/it]\n",
            "                   all      0.913      0.998\n",
            "\n",
            "      Epoch    GPU_mem       loss  Instances       Size\n",
            "      16/50         0G     0.1396         15        224: 100% 177/177 [06:43<00:00,  2.28s/it]\n",
            "               classes   top1_acc   top5_acc: 100% 13/13 [00:17<00:00,  1.33s/it]\n",
            "                   all      0.925      0.995\n",
            "\n",
            "      Epoch    GPU_mem       loss  Instances       Size\n",
            "      17/50         0G     0.1429         15        224: 100% 177/177 [06:41<00:00,  2.27s/it]\n",
            "               classes   top1_acc   top5_acc: 100% 13/13 [00:19<00:00,  1.53s/it]\n",
            "                   all      0.935      0.998\n",
            "\n",
            "      Epoch    GPU_mem       loss  Instances       Size\n",
            "      18/50         0G     0.1131         15        224: 100% 177/177 [06:44<00:00,  2.29s/it]\n",
            "               classes   top1_acc   top5_acc: 100% 13/13 [00:20<00:00,  1.59s/it]\n",
            "                   all      0.923      0.995\n",
            "\n",
            "      Epoch    GPU_mem       loss  Instances       Size\n",
            "      19/50         0G     0.1149         15        224: 100% 177/177 [06:38<00:00,  2.25s/it]\n",
            "               classes   top1_acc   top5_acc: 100% 13/13 [00:18<00:00,  1.46s/it]\n",
            "                   all      0.925      0.998\n",
            "\n",
            "      Epoch    GPU_mem       loss  Instances       Size\n",
            "      20/50         0G     0.1131         15        224: 100% 177/177 [06:38<00:00,  2.25s/it]\n",
            "               classes   top1_acc   top5_acc: 100% 13/13 [00:19<00:00,  1.46s/it]\n",
            "                   all      0.935      0.998\n",
            "\n",
            "      Epoch    GPU_mem       loss  Instances       Size\n",
            "      21/50         0G     0.1028         15        224: 100% 177/177 [06:37<00:00,  2.25s/it]\n",
            "               classes   top1_acc   top5_acc: 100% 13/13 [00:17<00:00,  1.37s/it]\n",
            "                   all      0.928      0.998\n",
            "\n",
            "      Epoch    GPU_mem       loss  Instances       Size\n",
            "      22/50         0G     0.1022         15        224: 100% 177/177 [06:42<00:00,  2.27s/it]\n",
            "               classes   top1_acc   top5_acc: 100% 13/13 [00:19<00:00,  1.49s/it]\n",
            "                   all       0.93      0.998\n",
            "\n",
            "      Epoch    GPU_mem       loss  Instances       Size\n",
            "      23/50         0G    0.08488         15        224: 100% 177/177 [06:37<00:00,  2.25s/it]\n",
            "               classes   top1_acc   top5_acc: 100% 13/13 [00:20<00:00,  1.57s/it]\n",
            "                   all       0.93      0.998\n",
            "\n",
            "      Epoch    GPU_mem       loss  Instances       Size\n",
            "      24/50         0G    0.08786         15        224: 100% 177/177 [06:43<00:00,  2.28s/it]\n",
            "               classes   top1_acc   top5_acc: 100% 13/13 [00:20<00:00,  1.56s/it]\n",
            "                   all       0.92      0.998\n",
            "\n",
            "      Epoch    GPU_mem       loss  Instances       Size\n",
            "      25/50         0G    0.08621         15        224: 100% 177/177 [06:44<00:00,  2.29s/it]\n",
            "               classes   top1_acc   top5_acc: 100% 13/13 [00:19<00:00,  1.50s/it]\n",
            "                   all       0.93      0.998\n",
            "\n",
            "      Epoch    GPU_mem       loss  Instances       Size\n",
            "      26/50         0G    0.09541         15        224: 100% 177/177 [06:36<00:00,  2.24s/it]\n",
            "               classes   top1_acc   top5_acc: 100% 13/13 [00:19<00:00,  1.49s/it]\n",
            "                   all      0.935      0.998\n",
            "\n",
            "      Epoch    GPU_mem       loss  Instances       Size\n",
            "      27/50         0G    0.07331         15        224: 100% 177/177 [06:49<00:00,  2.31s/it]\n",
            "               classes   top1_acc   top5_acc: 100% 13/13 [00:21<00:00,  1.65s/it]\n",
            "                   all       0.94      0.998\n",
            "\n",
            "      Epoch    GPU_mem       loss  Instances       Size\n",
            "      28/50         0G    0.07205         15        224: 100% 177/177 [06:44<00:00,  2.28s/it]\n",
            "               classes   top1_acc   top5_acc: 100% 13/13 [00:19<00:00,  1.51s/it]\n",
            "                   all      0.938      0.998\n",
            "\n",
            "      Epoch    GPU_mem       loss  Instances       Size\n",
            "      29/50         0G    0.07488         15        224: 100% 177/177 [06:40<00:00,  2.26s/it]\n",
            "               classes   top1_acc   top5_acc: 100% 13/13 [00:17<00:00,  1.37s/it]\n",
            "                   all      0.925      0.995\n",
            "\n",
            "      Epoch    GPU_mem       loss  Instances       Size\n",
            "      30/50         0G    0.07886         15        224: 100% 177/177 [06:38<00:00,  2.25s/it]\n",
            "               classes   top1_acc   top5_acc: 100% 13/13 [00:17<00:00,  1.38s/it]\n",
            "                   all       0.94      0.995\n",
            "\n",
            "      Epoch    GPU_mem       loss  Instances       Size\n",
            "      31/50         0G    0.07602         15        224: 100% 177/177 [06:43<00:00,  2.28s/it]\n",
            "               classes   top1_acc   top5_acc: 100% 13/13 [00:19<00:00,  1.52s/it]\n",
            "                   all       0.94      0.995\n",
            "\n",
            "      Epoch    GPU_mem       loss  Instances       Size\n",
            "      32/50         0G    0.07493         15        224: 100% 177/177 [06:43<00:00,  2.28s/it]\n",
            "               classes   top1_acc   top5_acc: 100% 13/13 [00:19<00:00,  1.53s/it]\n",
            "                   all      0.943      0.998\n",
            "\n",
            "      Epoch    GPU_mem       loss  Instances       Size\n",
            "      33/50         0G    0.07428         15        224: 100% 177/177 [06:34<00:00,  2.23s/it]\n",
            "               classes   top1_acc   top5_acc: 100% 13/13 [00:17<00:00,  1.36s/it]\n",
            "                   all       0.93          1\n",
            "\n",
            "      Epoch    GPU_mem       loss  Instances       Size\n",
            "      34/50         0G     0.0663         15        224: 100% 177/177 [06:35<00:00,  2.23s/it]\n",
            "               classes   top1_acc   top5_acc: 100% 13/13 [00:18<00:00,  1.44s/it]\n",
            "                   all       0.93          1\n",
            "\n",
            "      Epoch    GPU_mem       loss  Instances       Size\n",
            "      35/50         0G    0.05993         15        224: 100% 177/177 [06:39<00:00,  2.26s/it]\n",
            "               classes   top1_acc   top5_acc: 100% 13/13 [00:20<00:00,  1.54s/it]\n",
            "                   all      0.938      0.995\n",
            "\n",
            "      Epoch    GPU_mem       loss  Instances       Size\n",
            "      36/50         0G    0.06133         15        224: 100% 177/177 [06:40<00:00,  2.26s/it]\n",
            "               classes   top1_acc   top5_acc: 100% 13/13 [00:17<00:00,  1.33s/it]\n",
            "                   all      0.933      0.998\n",
            "\n",
            "      Epoch    GPU_mem       loss  Instances       Size\n",
            "      37/50         0G    0.05747         15        224: 100% 177/177 [06:41<00:00,  2.27s/it]\n",
            "               classes   top1_acc   top5_acc: 100% 13/13 [00:19<00:00,  1.50s/it]\n",
            "                   all      0.928      0.998\n",
            "\n",
            "      Epoch    GPU_mem       loss  Instances       Size\n",
            "      38/50         0G    0.06306         15        224: 100% 177/177 [06:37<00:00,  2.25s/it]\n",
            "               classes   top1_acc   top5_acc: 100% 13/13 [00:16<00:00,  1.29s/it]\n",
            "                   all       0.94      0.998\n",
            "\n",
            "      Epoch    GPU_mem       loss  Instances       Size\n",
            "      39/50         0G    0.06884         15        224: 100% 177/177 [06:36<00:00,  2.24s/it]\n",
            "               classes   top1_acc   top5_acc: 100% 13/13 [00:17<00:00,  1.37s/it]\n",
            "                   all      0.943      0.998\n",
            "\n",
            "      Epoch    GPU_mem       loss  Instances       Size\n",
            "      40/50         0G    0.05601         15        224: 100% 177/177 [06:39<00:00,  2.26s/it]\n",
            "               classes   top1_acc   top5_acc: 100% 13/13 [00:16<00:00,  1.30s/it]\n",
            "                   all      0.933      0.998\n",
            "\n",
            "      Epoch    GPU_mem       loss  Instances       Size\n",
            "      41/50         0G     0.0546         15        224: 100% 177/177 [06:37<00:00,  2.24s/it]\n",
            "               classes   top1_acc   top5_acc: 100% 13/13 [00:19<00:00,  1.49s/it]\n",
            "                   all      0.935      0.998\n",
            "\n",
            "      Epoch    GPU_mem       loss  Instances       Size\n",
            "      42/50         0G     0.0532         15        224: 100% 177/177 [06:35<00:00,  2.24s/it]\n",
            "               classes   top1_acc   top5_acc: 100% 13/13 [00:17<00:00,  1.32s/it]\n",
            "                   all       0.94      0.998\n",
            "\n",
            "      Epoch    GPU_mem       loss  Instances       Size\n",
            "      43/50         0G    0.05515         15        224: 100% 177/177 [06:33<00:00,  2.23s/it]\n",
            "               classes   top1_acc   top5_acc: 100% 13/13 [00:17<00:00,  1.38s/it]\n",
            "                   all      0.945      0.998\n",
            "\n",
            "      Epoch    GPU_mem       loss  Instances       Size\n",
            "      44/50         0G    0.05248         15        224: 100% 177/177 [06:38<00:00,  2.25s/it]\n",
            "               classes   top1_acc   top5_acc: 100% 13/13 [00:20<00:00,  1.60s/it]\n",
            "                   all      0.938      0.998\n",
            "\n",
            "      Epoch    GPU_mem       loss  Instances       Size\n",
            "      45/50         0G    0.04814         15        224: 100% 177/177 [06:35<00:00,  2.23s/it]\n",
            "               classes   top1_acc   top5_acc: 100% 13/13 [00:20<00:00,  1.58s/it]\n",
            "                   all       0.94      0.998\n",
            "\n",
            "      Epoch    GPU_mem       loss  Instances       Size\n",
            "      46/50         0G    0.05107         15        224: 100% 177/177 [06:34<00:00,  2.23s/it]\n",
            "               classes   top1_acc   top5_acc: 100% 13/13 [00:18<00:00,  1.45s/it]\n",
            "                   all       0.94      0.998\n",
            "\n",
            "      Epoch    GPU_mem       loss  Instances       Size\n",
            "      47/50         0G    0.05583         15        224: 100% 177/177 [06:57<00:00,  2.36s/it]\n",
            "               classes   top1_acc   top5_acc: 100% 13/13 [00:22<00:00,  1.76s/it]\n",
            "                   all      0.938      0.998\n",
            "\n",
            "      Epoch    GPU_mem       loss  Instances       Size\n",
            "      48/50         0G      0.042         15        224: 100% 177/177 [06:51<00:00,  2.32s/it]\n",
            "               classes   top1_acc   top5_acc: 100% 13/13 [00:16<00:00,  1.28s/it]\n",
            "                   all      0.935      0.998\n",
            "\n",
            "      Epoch    GPU_mem       loss  Instances       Size\n",
            "      49/50         0G    0.05101         15        224: 100% 177/177 [06:35<00:00,  2.23s/it]\n",
            "               classes   top1_acc   top5_acc: 100% 13/13 [00:19<00:00,  1.47s/it]\n",
            "                   all      0.938      0.998\n",
            "\n",
            "      Epoch    GPU_mem       loss  Instances       Size\n",
            "      50/50         0G    0.04549         15        224: 100% 177/177 [06:36<00:00,  2.24s/it]\n",
            "               classes   top1_acc   top5_acc: 100% 13/13 [00:20<00:00,  1.57s/it]\n",
            "                   all      0.935      0.998\n",
            "\n",
            "50 epochs completed in 5.835 hours.\n",
            "Optimizer stripped from runs/classify/train2/weights/last.pt, 10.3MB\n",
            "Optimizer stripped from runs/classify/train2/weights/best.pt, 10.3MB\n",
            "\n",
            "Validating runs/classify/train2/weights/best.pt...\n",
            "Ultralytics YOLOv8.2.86 🚀 Python-3.10.12 torch-2.4.0+cu121 CPU (Intel Xeon 2.20GHz)\n",
            "YOLOv8s-cls summary (fused): 73 layers, 5,084,167 parameters, 0 gradients, 12.5 GFLOPs\n",
            "WARNING ⚠️ Dataset 'split=val' not found, using 'split=test' instead.\n",
            "\u001b[34m\u001b[1mtrain:\u001b[0m /content/Brain-Tumor-Detection-2/train... found 2831 images in 7 classes ✅ \n",
            "\u001b[34m\u001b[1mval:\u001b[0m None...\n",
            "\u001b[34m\u001b[1mtest:\u001b[0m /content/Brain-Tumor-Detection-2/test... found 402 images in 7 classes ✅ \n",
            "               classes   top1_acc   top5_acc: 100% 13/13 [00:18<00:00,  1.39s/it]\n",
            "                   all      0.945      0.998\n",
            "Speed: 0.0ms preprocess, 40.8ms inference, 0.0ms loss, 0.0ms postprocess per image\n",
            "Results saved to \u001b[1mruns/classify/train2\u001b[0m\n",
            "Results saved to \u001b[1mruns/classify/train2\u001b[0m\n",
            "💡 Learn more at https://docs.ultralytics.com/modes/train\n"
          ]
        }
      ]
    },
    {
      "cell_type": "code",
      "source": [
        "import os\n",
        "\n",
        "print(os.listdir(\"runs/classify/train/\"))"
      ],
      "metadata": {
        "colab": {
          "base_uri": "https://localhost:8080/"
        },
        "id": "51Gc9oGWzIKg",
        "outputId": "d8ed1974-1489-4ce9-ff3d-e057a977658b"
      },
      "execution_count": null,
      "outputs": [
        {
          "output_type": "stream",
          "name": "stdout",
          "text": [
            "['args.yaml', 'weights']\n"
          ]
        }
      ]
    },
    {
      "cell_type": "code",
      "source": [
        "import os\n",
        "print(os.listdir(\"runs/classify/train2/\"))\n"
      ],
      "metadata": {
        "colab": {
          "base_uri": "https://localhost:8080/"
        },
        "id": "SxL_pzEDzTOq",
        "outputId": "8a3b9d5e-4b9b-47e9-e218-dd6ac11c8343"
      },
      "execution_count": null,
      "outputs": [
        {
          "output_type": "stream",
          "name": "stdout",
          "text": [
            "['val_batch2_labels.jpg', 'confusion_matrix_normalized.png', 'train_batch7082.jpg', 'results.csv', 'events.out.tfevents.1725361079.fd18b6a0d350.8371.0', 'val_batch0_pred.jpg', 'train_batch2.jpg', 'results.png', 'val_batch1_labels.jpg', 'val_batch1_pred.jpg', 'val_batch0_labels.jpg', 'confusion_matrix.png', 'train_batch1.jpg', 'train_batch7080.jpg', 'args.yaml', 'weights', 'val_batch2_pred.jpg', 'train_batch0.jpg', 'train_batch7081.jpg']\n"
          ]
        }
      ]
    },
    {
      "cell_type": "code",
      "source": [
        "print(os.listdir(\"runs/classify/train2/weights/\"))\n"
      ],
      "metadata": {
        "colab": {
          "base_uri": "https://localhost:8080/"
        },
        "id": "3l_PsM0xz7b9",
        "outputId": "408d1f1f-e1ed-4be6-f81a-8e22e9e910c8"
      },
      "execution_count": null,
      "outputs": [
        {
          "output_type": "stream",
          "name": "stdout",
          "text": [
            "['last.pt', 'best.pt']\n"
          ]
        }
      ]
    },
    {
      "cell_type": "code",
      "source": [
        "model_path = \"runs/classify/train2/weights/best.pt\"\n"
      ],
      "metadata": {
        "id": "lTu2pVRr0A89"
      },
      "execution_count": null,
      "outputs": []
    },
    {
      "cell_type": "code",
      "source": [
        "model.save(\"runs/classify/train2/weights/best.pt\" )"
      ],
      "metadata": {
        "id": "7J7HXMMw1Gpm"
      },
      "execution_count": null,
      "outputs": []
    },
    {
      "cell_type": "code",
      "source": [
        "model.export(format=\"onnx\")"
      ],
      "metadata": {
        "colab": {
          "base_uri": "https://localhost:8080/",
          "height": 243
        },
        "id": "UY_A9QzA2U2k",
        "outputId": "69ad7130-94c6-4252-cbd8-3627a537ad18"
      },
      "execution_count": null,
      "outputs": [
        {
          "output_type": "stream",
          "name": "stdout",
          "text": [
            "Ultralytics YOLOv8.2.86 🚀 Python-3.10.12 torch-2.4.0+cu121 CPU (Intel Xeon 2.20GHz)\n",
            "\n",
            "\u001b[34m\u001b[1mPyTorch:\u001b[0m starting from 'runs/classify/train2/weights/best.pt' with input shape (1, 3, 224, 224) BCHW and output shape(s) (1, 7) (9.7 MB)\n",
            "\n",
            "\u001b[34m\u001b[1mONNX:\u001b[0m starting export with onnx 1.16.2 opset 19...\n",
            "\u001b[34m\u001b[1mONNX:\u001b[0m export success ✅ 0.4s, saved as 'runs/classify/train2/weights/best.onnx' (19.4 MB)\n",
            "\n",
            "Export complete (1.8s)\n",
            "Results saved to \u001b[1m/content/Brain-Tumor-Detection-2/runs/classify/train2/weights\u001b[0m\n",
            "Predict:         yolo predict task=classify model=runs/classify/train2/weights/best.onnx imgsz=224  \n",
            "Validate:        yolo val task=classify model=runs/classify/train2/weights/best.onnx imgsz=224 data=/content/Brain-Tumor-Detection-2  \n",
            "Visualize:       https://netron.app\n"
          ]
        },
        {
          "output_type": "execute_result",
          "data": {
            "text/plain": [
              "'runs/classify/train2/weights/best.onnx'"
            ],
            "application/vnd.google.colaboratory.intrinsic+json": {
              "type": "string"
            }
          },
          "metadata": {},
          "execution_count": 45
        }
      ]
    },
    {
      "cell_type": "code",
      "source": [
        "!pip install gradio"
      ],
      "metadata": {
        "colab": {
          "base_uri": "https://localhost:8080/"
        },
        "id": "LPtvpTET3Aa5",
        "outputId": "96631bad-772f-4b66-9bc3-a84f0ae5ca44"
      },
      "execution_count": null,
      "outputs": [
        {
          "output_type": "stream",
          "name": "stdout",
          "text": [
            "Collecting gradio\n",
            "  Downloading gradio-4.42.0-py3-none-any.whl.metadata (15 kB)\n",
            "Collecting aiofiles<24.0,>=22.0 (from gradio)\n",
            "  Downloading aiofiles-23.2.1-py3-none-any.whl.metadata (9.7 kB)\n",
            "Requirement already satisfied: anyio<5.0,>=3.0 in /usr/local/lib/python3.10/dist-packages (from gradio) (3.7.1)\n",
            "Collecting fastapi (from gradio)\n",
            "  Downloading fastapi-0.112.2-py3-none-any.whl.metadata (27 kB)\n",
            "Collecting ffmpy (from gradio)\n",
            "  Downloading ffmpy-0.4.0-py3-none-any.whl.metadata (2.9 kB)\n",
            "Collecting gradio-client==1.3.0 (from gradio)\n",
            "  Downloading gradio_client-1.3.0-py3-none-any.whl.metadata (7.1 kB)\n",
            "Collecting httpx>=0.24.1 (from gradio)\n",
            "  Downloading httpx-0.27.2-py3-none-any.whl.metadata (7.1 kB)\n",
            "Requirement already satisfied: huggingface-hub>=0.19.3 in /usr/local/lib/python3.10/dist-packages (from gradio) (0.23.5)\n",
            "Requirement already satisfied: importlib-resources<7.0,>=1.3 in /usr/local/lib/python3.10/dist-packages (from gradio) (6.4.4)\n",
            "Requirement already satisfied: jinja2<4.0 in /usr/local/lib/python3.10/dist-packages (from gradio) (3.1.4)\n",
            "Requirement already satisfied: markupsafe~=2.0 in /usr/local/lib/python3.10/dist-packages (from gradio) (2.1.5)\n",
            "Requirement already satisfied: matplotlib~=3.0 in /usr/local/lib/python3.10/dist-packages (from gradio) (3.7.1)\n",
            "Requirement already satisfied: numpy<3.0,>=1.0 in /usr/local/lib/python3.10/dist-packages (from gradio) (1.26.4)\n",
            "Collecting orjson~=3.0 (from gradio)\n",
            "  Downloading orjson-3.10.7-cp310-cp310-manylinux_2_17_x86_64.manylinux2014_x86_64.whl.metadata (50 kB)\n",
            "\u001b[2K     \u001b[90m━━━━━━━━━━━━━━━━━━━━━━━━━━━━━━━━━━━━━━━━\u001b[0m \u001b[32m50.4/50.4 kB\u001b[0m \u001b[31m2.5 MB/s\u001b[0m eta \u001b[36m0:00:00\u001b[0m\n",
            "\u001b[?25hRequirement already satisfied: packaging in /usr/local/lib/python3.10/dist-packages (from gradio) (24.1)\n",
            "Requirement already satisfied: pandas<3.0,>=1.0 in /usr/local/lib/python3.10/dist-packages (from gradio) (2.1.4)\n",
            "Requirement already satisfied: pillow<11.0,>=8.0 in /usr/local/lib/python3.10/dist-packages (from gradio) (9.4.0)\n",
            "Requirement already satisfied: pydantic>=2.0 in /usr/local/lib/python3.10/dist-packages (from gradio) (2.8.2)\n",
            "Collecting pydub (from gradio)\n",
            "  Downloading pydub-0.25.1-py2.py3-none-any.whl.metadata (1.4 kB)\n",
            "Collecting python-multipart>=0.0.9 (from gradio)\n",
            "  Downloading python_multipart-0.0.9-py3-none-any.whl.metadata (2.5 kB)\n",
            "Requirement already satisfied: pyyaml<7.0,>=5.0 in /usr/local/lib/python3.10/dist-packages (from gradio) (6.0.2)\n",
            "Collecting ruff>=0.2.2 (from gradio)\n",
            "  Downloading ruff-0.6.3-py3-none-manylinux_2_17_x86_64.manylinux2014_x86_64.whl.metadata (25 kB)\n",
            "Collecting semantic-version~=2.0 (from gradio)\n",
            "  Downloading semantic_version-2.10.0-py2.py3-none-any.whl.metadata (9.7 kB)\n",
            "Collecting tomlkit==0.12.0 (from gradio)\n",
            "  Downloading tomlkit-0.12.0-py3-none-any.whl.metadata (2.7 kB)\n",
            "Requirement already satisfied: typer<1.0,>=0.12 in /usr/local/lib/python3.10/dist-packages (from gradio) (0.12.5)\n",
            "Requirement already satisfied: typing-extensions~=4.0 in /usr/local/lib/python3.10/dist-packages (from gradio) (4.12.2)\n",
            "Requirement already satisfied: urllib3~=2.0 in /usr/local/lib/python3.10/dist-packages (from gradio) (2.0.7)\n",
            "Collecting uvicorn>=0.14.0 (from gradio)\n",
            "  Downloading uvicorn-0.30.6-py3-none-any.whl.metadata (6.6 kB)\n",
            "Requirement already satisfied: fsspec in /usr/local/lib/python3.10/dist-packages (from gradio-client==1.3.0->gradio) (2024.6.1)\n",
            "Collecting websockets<13.0,>=10.0 (from gradio-client==1.3.0->gradio)\n",
            "  Downloading websockets-12.0-cp310-cp310-manylinux_2_5_x86_64.manylinux1_x86_64.manylinux_2_17_x86_64.manylinux2014_x86_64.whl.metadata (6.6 kB)\n",
            "Requirement already satisfied: idna>=2.8 in /usr/local/lib/python3.10/dist-packages (from anyio<5.0,>=3.0->gradio) (3.7)\n",
            "Requirement already satisfied: sniffio>=1.1 in /usr/local/lib/python3.10/dist-packages (from anyio<5.0,>=3.0->gradio) (1.3.1)\n",
            "Requirement already satisfied: exceptiongroup in /usr/local/lib/python3.10/dist-packages (from anyio<5.0,>=3.0->gradio) (1.2.2)\n",
            "Requirement already satisfied: certifi in /usr/local/lib/python3.10/dist-packages (from httpx>=0.24.1->gradio) (2024.7.4)\n",
            "Collecting httpcore==1.* (from httpx>=0.24.1->gradio)\n",
            "  Downloading httpcore-1.0.5-py3-none-any.whl.metadata (20 kB)\n",
            "Collecting h11<0.15,>=0.13 (from httpcore==1.*->httpx>=0.24.1->gradio)\n",
            "  Downloading h11-0.14.0-py3-none-any.whl.metadata (8.2 kB)\n",
            "Requirement already satisfied: filelock in /usr/local/lib/python3.10/dist-packages (from huggingface-hub>=0.19.3->gradio) (3.15.4)\n",
            "Requirement already satisfied: requests in /usr/local/lib/python3.10/dist-packages (from huggingface-hub>=0.19.3->gradio) (2.32.3)\n",
            "Requirement already satisfied: tqdm>=4.42.1 in /usr/local/lib/python3.10/dist-packages (from huggingface-hub>=0.19.3->gradio) (4.66.5)\n",
            "Requirement already satisfied: contourpy>=1.0.1 in /usr/local/lib/python3.10/dist-packages (from matplotlib~=3.0->gradio) (1.2.1)\n",
            "Requirement already satisfied: cycler>=0.10 in /usr/local/lib/python3.10/dist-packages (from matplotlib~=3.0->gradio) (0.12.1)\n",
            "Requirement already satisfied: fonttools>=4.22.0 in /usr/local/lib/python3.10/dist-packages (from matplotlib~=3.0->gradio) (4.53.1)\n",
            "Requirement already satisfied: kiwisolver>=1.0.1 in /usr/local/lib/python3.10/dist-packages (from matplotlib~=3.0->gradio) (1.4.5)\n",
            "Requirement already satisfied: pyparsing>=2.3.1 in /usr/local/lib/python3.10/dist-packages (from matplotlib~=3.0->gradio) (3.1.4)\n",
            "Requirement already satisfied: python-dateutil>=2.7 in /usr/local/lib/python3.10/dist-packages (from matplotlib~=3.0->gradio) (2.8.2)\n",
            "Requirement already satisfied: pytz>=2020.1 in /usr/local/lib/python3.10/dist-packages (from pandas<3.0,>=1.0->gradio) (2024.1)\n",
            "Requirement already satisfied: tzdata>=2022.1 in /usr/local/lib/python3.10/dist-packages (from pandas<3.0,>=1.0->gradio) (2024.1)\n",
            "Requirement already satisfied: annotated-types>=0.4.0 in /usr/local/lib/python3.10/dist-packages (from pydantic>=2.0->gradio) (0.7.0)\n",
            "Requirement already satisfied: pydantic-core==2.20.1 in /usr/local/lib/python3.10/dist-packages (from pydantic>=2.0->gradio) (2.20.1)\n",
            "Requirement already satisfied: click>=8.0.0 in /usr/local/lib/python3.10/dist-packages (from typer<1.0,>=0.12->gradio) (8.1.7)\n",
            "Requirement already satisfied: shellingham>=1.3.0 in /usr/local/lib/python3.10/dist-packages (from typer<1.0,>=0.12->gradio) (1.5.4)\n",
            "Requirement already satisfied: rich>=10.11.0 in /usr/local/lib/python3.10/dist-packages (from typer<1.0,>=0.12->gradio) (13.8.0)\n",
            "Collecting starlette<0.39.0,>=0.37.2 (from fastapi->gradio)\n",
            "  Downloading starlette-0.38.4-py3-none-any.whl.metadata (6.0 kB)\n",
            "Requirement already satisfied: six>=1.5 in /usr/local/lib/python3.10/dist-packages (from python-dateutil>=2.7->matplotlib~=3.0->gradio) (1.16.0)\n",
            "Requirement already satisfied: markdown-it-py>=2.2.0 in /usr/local/lib/python3.10/dist-packages (from rich>=10.11.0->typer<1.0,>=0.12->gradio) (3.0.0)\n",
            "Requirement already satisfied: pygments<3.0.0,>=2.13.0 in /usr/local/lib/python3.10/dist-packages (from rich>=10.11.0->typer<1.0,>=0.12->gradio) (2.16.1)\n",
            "Requirement already satisfied: charset-normalizer<4,>=2 in /usr/local/lib/python3.10/dist-packages (from requests->huggingface-hub>=0.19.3->gradio) (3.3.2)\n",
            "Requirement already satisfied: mdurl~=0.1 in /usr/local/lib/python3.10/dist-packages (from markdown-it-py>=2.2.0->rich>=10.11.0->typer<1.0,>=0.12->gradio) (0.1.2)\n",
            "Downloading gradio-4.42.0-py3-none-any.whl (16.8 MB)\n",
            "\u001b[2K   \u001b[90m━━━━━━━━━━━━━━━━━━━━━━━━━━━━━━━━━━━━━━━━\u001b[0m \u001b[32m16.8/16.8 MB\u001b[0m \u001b[31m37.7 MB/s\u001b[0m eta \u001b[36m0:00:00\u001b[0m\n",
            "\u001b[?25hDownloading gradio_client-1.3.0-py3-none-any.whl (318 kB)\n",
            "\u001b[2K   \u001b[90m━━━━━━━━━━━━━━━━━━━━━━━━━━━━━━━━━━━━━━━━\u001b[0m \u001b[32m318.7/318.7 kB\u001b[0m \u001b[31m16.9 MB/s\u001b[0m eta \u001b[36m0:00:00\u001b[0m\n",
            "\u001b[?25hDownloading tomlkit-0.12.0-py3-none-any.whl (37 kB)\n",
            "Downloading aiofiles-23.2.1-py3-none-any.whl (15 kB)\n",
            "Downloading httpx-0.27.2-py3-none-any.whl (76 kB)\n",
            "\u001b[2K   \u001b[90m━━━━━━━━━━━━━━━━━━━━━━━━━━━━━━━━━━━━━━━━\u001b[0m \u001b[32m76.4/76.4 kB\u001b[0m \u001b[31m3.5 MB/s\u001b[0m eta \u001b[36m0:00:00\u001b[0m\n",
            "\u001b[?25hDownloading httpcore-1.0.5-py3-none-any.whl (77 kB)\n",
            "\u001b[2K   \u001b[90m━━━━━━━━━━━━━━━━━━━━━━━━━━━━━━━━━━━━━━━━\u001b[0m \u001b[32m77.9/77.9 kB\u001b[0m \u001b[31m3.7 MB/s\u001b[0m eta \u001b[36m0:00:00\u001b[0m\n",
            "\u001b[?25hDownloading orjson-3.10.7-cp310-cp310-manylinux_2_17_x86_64.manylinux2014_x86_64.whl (141 kB)\n",
            "\u001b[2K   \u001b[90m━━━━━━━━━━━━━━━━━━━━━━━━━━━━━━━━━━━━━━━━\u001b[0m \u001b[32m141.9/141.9 kB\u001b[0m \u001b[31m7.9 MB/s\u001b[0m eta \u001b[36m0:00:00\u001b[0m\n",
            "\u001b[?25hDownloading python_multipart-0.0.9-py3-none-any.whl (22 kB)\n",
            "Downloading ruff-0.6.3-py3-none-manylinux_2_17_x86_64.manylinux2014_x86_64.whl (10.3 MB)\n",
            "\u001b[2K   \u001b[90m━━━━━━━━━━━━━━━━━━━━━━━━━━━━━━━━━━━━━━━━\u001b[0m \u001b[32m10.3/10.3 MB\u001b[0m \u001b[31m40.4 MB/s\u001b[0m eta \u001b[36m0:00:00\u001b[0m\n",
            "\u001b[?25hDownloading semantic_version-2.10.0-py2.py3-none-any.whl (15 kB)\n",
            "Downloading uvicorn-0.30.6-py3-none-any.whl (62 kB)\n",
            "\u001b[2K   \u001b[90m━━━━━━━━━━━━━━━━━━━━━━━━━━━━━━━━━━━━━━━━\u001b[0m \u001b[32m62.8/62.8 kB\u001b[0m \u001b[31m3.9 MB/s\u001b[0m eta \u001b[36m0:00:00\u001b[0m\n",
            "\u001b[?25hDownloading fastapi-0.112.2-py3-none-any.whl (93 kB)\n",
            "\u001b[2K   \u001b[90m━━━━━━━━━━━━━━━━━━━━━━━━━━━━━━━━━━━━━━━━\u001b[0m \u001b[32m93.5/93.5 kB\u001b[0m \u001b[31m5.5 MB/s\u001b[0m eta \u001b[36m0:00:00\u001b[0m\n",
            "\u001b[?25hDownloading ffmpy-0.4.0-py3-none-any.whl (5.8 kB)\n",
            "Downloading pydub-0.25.1-py2.py3-none-any.whl (32 kB)\n",
            "Downloading h11-0.14.0-py3-none-any.whl (58 kB)\n",
            "\u001b[2K   \u001b[90m━━━━━━━━━━━━━━━━━━━━━━━━━━━━━━━━━━━━━━━━\u001b[0m \u001b[32m58.3/58.3 kB\u001b[0m \u001b[31m3.3 MB/s\u001b[0m eta \u001b[36m0:00:00\u001b[0m\n",
            "\u001b[?25hDownloading starlette-0.38.4-py3-none-any.whl (71 kB)\n",
            "\u001b[2K   \u001b[90m━━━━━━━━━━━━━━━━━━━━━━━━━━━━━━━━━━━━━━━━\u001b[0m \u001b[32m71.4/71.4 kB\u001b[0m \u001b[31m3.8 MB/s\u001b[0m eta \u001b[36m0:00:00\u001b[0m\n",
            "\u001b[?25hDownloading websockets-12.0-cp310-cp310-manylinux_2_5_x86_64.manylinux1_x86_64.manylinux_2_17_x86_64.manylinux2014_x86_64.whl (130 kB)\n",
            "\u001b[2K   \u001b[90m━━━━━━━━━━━━━━━━━━━━━━━━━━━━━━━━━━━━━━━━\u001b[0m \u001b[32m130.2/130.2 kB\u001b[0m \u001b[31m8.0 MB/s\u001b[0m eta \u001b[36m0:00:00\u001b[0m\n",
            "\u001b[?25hInstalling collected packages: pydub, websockets, tomlkit, semantic-version, ruff, python-multipart, orjson, h11, ffmpy, aiofiles, uvicorn, starlette, httpcore, httpx, fastapi, gradio-client, gradio\n",
            "  Attempting uninstall: tomlkit\n",
            "    Found existing installation: tomlkit 0.13.2\n",
            "    Uninstalling tomlkit-0.13.2:\n",
            "      Successfully uninstalled tomlkit-0.13.2\n",
            "Successfully installed aiofiles-23.2.1 fastapi-0.112.2 ffmpy-0.4.0 gradio-4.42.0 gradio-client-1.3.0 h11-0.14.0 httpcore-1.0.5 httpx-0.27.2 orjson-3.10.7 pydub-0.25.1 python-multipart-0.0.9 ruff-0.6.3 semantic-version-2.10.0 starlette-0.38.4 tomlkit-0.12.0 uvicorn-0.30.6 websockets-12.0\n"
          ]
        }
      ]
    },
    {
      "cell_type": "code",
      "source": [
        "import gradio as gr\n",
        "import torch\n",
        "from ultralytics import YOLO\n",
        "from PIL import Image\n",
        "\n",
        "\n",
        "model = YOLO(\"runs/classify/train2/weights/best.pt\")\n",
        "def predict(image):\n",
        "    # Perform inference on the image\n",
        "    results = model(image)\n",
        "    annotated_image = results[0].plot()\n",
        "\n",
        "    return annotated_image\n",
        "\n",
        "# Create Gradio Interface\n",
        "interface = gr.Interface(fn=predict, inputs=gr.Image(type=\"pil\"), outputs=\"image\", title=\"Brain Tumor Detection\")\n",
        "\n",
        "# Launch the interface\n",
        "interface.launch()\n"
      ],
      "metadata": {
        "colab": {
          "base_uri": "https://localhost:8080/",
          "height": 645
        },
        "id": "5gkWCsUF29Fm",
        "outputId": "c37b7c25-de43-44ec-e5f3-f4891c1c952b"
      },
      "execution_count": null,
      "outputs": [
        {
          "output_type": "stream",
          "name": "stdout",
          "text": [
            "Setting queue=True in a Colab notebook requires sharing enabled. Setting `share=True` (you can turn this off by setting `share=False` in `launch()` explicitly).\n",
            "\n",
            "Colab notebook detected. To show errors in colab notebook, set debug=True in launch()\n",
            "Running on public URL: https://2fdece5036ba04d88a.gradio.live\n",
            "\n",
            "This share link expires in 72 hours. For free permanent hosting and GPU upgrades, run `gradio deploy` from Terminal to deploy to Spaces (https://huggingface.co/spaces)\n"
          ]
        },
        {
          "output_type": "display_data",
          "data": {
            "text/plain": [
              "<IPython.core.display.HTML object>"
            ],
            "text/html": [
              "<div><iframe src=\"https://2fdece5036ba04d88a.gradio.live\" width=\"100%\" height=\"500\" allow=\"autoplay; camera; microphone; clipboard-read; clipboard-write;\" frameborder=\"0\" allowfullscreen></iframe></div>"
            ]
          },
          "metadata": {}
        },
        {
          "output_type": "execute_result",
          "data": {
            "text/plain": []
          },
          "metadata": {},
          "execution_count": 50
        }
      ]
    }
  ]
}